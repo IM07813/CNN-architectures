{
  "nbformat": 4,
  "nbformat_minor": 0,
  "metadata": {
    "colab": {
      "provenance": [],
      "authorship_tag": "ABX9TyOOBi3OURLc7cZvmr6ZDguz"
    },
    "kernelspec": {
      "name": "python3",
      "display_name": "Python 3"
    },
    "language_info": {
      "name": "python"
    }
  },
  "cells": [
    {
      "cell_type": "markdown",
      "source": [
        "##word embedding: \n",
        "it allows you to capture relationship between two words. \n",
        "essentially it converts words to a bunch of vectors\n",
        "inside word embedding:\n",
        "1. TF-IDF\n",
        "2. Word2Vec"
      ],
      "metadata": {
        "id": "VyNTkQOBDg4O"
      }
    },
    {
      "cell_type": "markdown",
      "source": [
        "#one hot-encoding \n"
      ],
      "metadata": {
        "id": "sjoWzPEAKJmz"
      }
    },
    {
      "cell_type": "markdown",
      "source": [
        "##Using supervised learning\n",
        "\n",
        "  "
      ],
      "metadata": {
        "id": "ukusGes8G-lo"
      }
    },
    {
      "cell_type": "code",
      "execution_count": null,
      "metadata": {
        "id": "D5aH3ILJDGzE"
      },
      "outputs": [],
      "source": [
        "import numpy as np\n",
        "from tensorflow.keras.preprocessing.text import one_hot \n",
        "from tensorflow.keras.preprocessing.sequence import pad_sequences\n",
        "from tensorflow.keras.models import Sequential\n",
        "from tensorflow.keras.layers import Dense \n",
        "from tensorflow.keras.layers import Flatten\n",
        "from tensorflow.keras.layers import Embedding\n",
        "from tensorflow.keras.layers import Dense, Embedding, GlobalAveragePooling1D"
      ]
    },
    {
      "cell_type": "code",
      "source": [
        "feeling = [\n",
        "    'amazing',\n",
        "    'good',\n",
        "    'okay',\n",
        "\n",
        "    'fine',\n",
        "    'awesome',\n",
        "    'bad',\n",
        "    'worse',\n",
        "    'tired'\n",
        "\n",
        "]\n",
        "setiment = np.array([1,1,1,1,1,0,0,0])"
      ],
      "metadata": {
        "id": "yigIdUHNJEbb"
      },
      "execution_count": null,
      "outputs": []
    },
    {
      "cell_type": "code",
      "source": [
        "size = 25\n",
        "encoded_feeling = [one_hot(i, size) for i in feeling]\n",
        "encoded_feeling"
      ],
      "metadata": {
        "colab": {
          "base_uri": "https://localhost:8080/"
        },
        "id": "vvDsBVPQKB7H",
        "outputId": "6d39977f-5e02-4150-a4ff-b3e4da8e95a0"
      },
      "execution_count": null,
      "outputs": [
        {
          "output_type": "execute_result",
          "data": {
            "text/plain": [
              "[[1], [17], [7], [10], [5], [15], [24], [1]]"
            ]
          },
          "metadata": {},
          "execution_count": 107
        }
      ]
    },
    {
      "cell_type": "markdown",
      "source": [
        "###Pading"
      ],
      "metadata": {
        "id": "fxEVNf2dLeah"
      }
    },
    {
      "cell_type": "code",
      "source": [
        "max= 2\n",
        "padded_feeling = pad_sequences(encoded_feeling, maxlen = max, padding = 'post')\n",
        "a= padded_feeling.reshape(16,)"
      ],
      "metadata": {
        "id": "gOsI95-_KrOE"
      },
      "execution_count": null,
      "outputs": []
    },
    {
      "cell_type": "markdown",
      "source": [
        "##creating model"
      ],
      "metadata": {
        "id": "MlXJYTUtL4rS"
      }
    },
    {
      "cell_type": "code",
      "source": [
        "embedding_dim=16\n",
        "\n",
        "model = Sequential([\n",
        "  Embedding(size, embedding_dim, name=\"embedding\"),\n",
        "  GlobalAveragePooling1D(),\n",
        "  Dense(16, activation='relu'),\n",
        "  Dense(1)\n",
        "])"
      ],
      "metadata": {
        "id": "rdhgssAQVS3_"
      },
      "execution_count": null,
      "outputs": []
    },
    {
      "cell_type": "code",
      "source": [
        "X= padded_feeling\n",
        "y= setiment\n"
      ],
      "metadata": {
        "id": "FrDpxtUvMoxM"
      },
      "execution_count": null,
      "outputs": []
    },
    {
      "cell_type": "code",
      "source": [
        "model.compile (optimizer = 'adam', loss = 'binary_crossentropy', metrics = ['accuracy'])\n",
        "model.summary()"
      ],
      "metadata": {
        "colab": {
          "base_uri": "https://localhost:8080/"
        },
        "id": "Ov8ocF-KNt-Q",
        "outputId": "a5944416-2838-436e-dc5b-476e04e71369"
      },
      "execution_count": null,
      "outputs": [
        {
          "output_type": "stream",
          "name": "stdout",
          "text": [
            "Model: \"sequential_26\"\n",
            "_________________________________________________________________\n",
            " Layer (type)                Output Shape              Param #   \n",
            "=================================================================\n",
            " embedding (Embedding)       (None, None, 16)          400       \n",
            "                                                                 \n",
            " global_average_pooling1d_9   (None, 16)               0         \n",
            " (GlobalAveragePooling1D)                                        \n",
            "                                                                 \n",
            " dense_6 (Dense)             (None, 16)                272       \n",
            "                                                                 \n",
            " dense_7 (Dense)             (None, 1)                 17        \n",
            "                                                                 \n",
            "=================================================================\n",
            "Total params: 689\n",
            "Trainable params: 689\n",
            "Non-trainable params: 0\n",
            "_________________________________________________________________\n"
          ]
        }
      ]
    },
    {
      "cell_type": "code",
      "source": [
        "model.fit(X, y, epochs=50, verbose = 2)"
      ],
      "metadata": {
        "colab": {
          "base_uri": "https://localhost:8080/"
        },
        "id": "L-gy2fEoN-xu",
        "outputId": "18fedb4c-f163-4422-ba91-8e0318e79ae5"
      },
      "execution_count": null,
      "outputs": [
        {
          "output_type": "stream",
          "name": "stdout",
          "text": [
            "Epoch 1/50\n",
            "1/1 - 1s - loss: 6.0039 - accuracy: 0.3750 - 707ms/epoch - 707ms/step\n",
            "Epoch 2/50\n",
            "1/1 - 0s - loss: 4.5184 - accuracy: 0.3750 - 8ms/epoch - 8ms/step\n",
            "Epoch 3/50\n",
            "1/1 - 0s - loss: 2.9619 - accuracy: 0.3750 - 6ms/epoch - 6ms/step\n",
            "Epoch 4/50\n",
            "1/1 - 0s - loss: 2.5994 - accuracy: 0.3750 - 7ms/epoch - 7ms/step\n",
            "Epoch 5/50\n",
            "1/1 - 0s - loss: 2.4226 - accuracy: 0.3750 - 6ms/epoch - 6ms/step\n",
            "Epoch 6/50\n",
            "1/1 - 0s - loss: 2.2953 - accuracy: 0.3750 - 8ms/epoch - 8ms/step\n",
            "Epoch 7/50\n",
            "1/1 - 0s - loss: 2.1963 - accuracy: 0.3750 - 6ms/epoch - 6ms/step\n",
            "Epoch 8/50\n",
            "1/1 - 0s - loss: 2.1162 - accuracy: 0.3750 - 6ms/epoch - 6ms/step\n",
            "Epoch 9/50\n",
            "1/1 - 0s - loss: 2.0507 - accuracy: 0.3750 - 6ms/epoch - 6ms/step\n",
            "Epoch 10/50\n",
            "1/1 - 0s - loss: 1.9950 - accuracy: 0.3750 - 6ms/epoch - 6ms/step\n",
            "Epoch 11/50\n",
            "1/1 - 0s - loss: 1.9459 - accuracy: 0.3750 - 6ms/epoch - 6ms/step\n",
            "Epoch 12/50\n",
            "1/1 - 0s - loss: 1.9016 - accuracy: 0.3750 - 9ms/epoch - 9ms/step\n",
            "Epoch 13/50\n",
            "1/1 - 0s - loss: 1.8609 - accuracy: 0.3750 - 6ms/epoch - 6ms/step\n",
            "Epoch 14/50\n",
            "1/1 - 0s - loss: 1.8234 - accuracy: 0.3750 - 6ms/epoch - 6ms/step\n",
            "Epoch 15/50\n",
            "1/1 - 0s - loss: 1.7886 - accuracy: 0.3750 - 6ms/epoch - 6ms/step\n",
            "Epoch 16/50\n",
            "1/1 - 0s - loss: 1.7562 - accuracy: 0.3750 - 6ms/epoch - 6ms/step\n",
            "Epoch 17/50\n",
            "1/1 - 0s - loss: 1.7267 - accuracy: 0.3750 - 6ms/epoch - 6ms/step\n",
            "Epoch 18/50\n",
            "1/1 - 0s - loss: 1.6990 - accuracy: 0.3750 - 6ms/epoch - 6ms/step\n",
            "Epoch 19/50\n",
            "1/1 - 0s - loss: 1.6731 - accuracy: 0.3750 - 5ms/epoch - 5ms/step\n",
            "Epoch 20/50\n",
            "1/1 - 0s - loss: 1.6486 - accuracy: 0.3750 - 6ms/epoch - 6ms/step\n",
            "Epoch 21/50\n",
            "1/1 - 0s - loss: 1.6254 - accuracy: 0.3750 - 6ms/epoch - 6ms/step\n",
            "Epoch 22/50\n",
            "1/1 - 0s - loss: 1.6035 - accuracy: 0.3750 - 6ms/epoch - 6ms/step\n",
            "Epoch 23/50\n",
            "1/1 - 0s - loss: 1.5826 - accuracy: 0.3750 - 5ms/epoch - 5ms/step\n",
            "Epoch 24/50\n",
            "1/1 - 0s - loss: 1.5628 - accuracy: 0.3750 - 5ms/epoch - 5ms/step\n",
            "Epoch 25/50\n",
            "1/1 - 0s - loss: 1.5439 - accuracy: 0.3750 - 5ms/epoch - 5ms/step\n",
            "Epoch 26/50\n",
            "1/1 - 0s - loss: 1.5258 - accuracy: 0.3750 - 6ms/epoch - 6ms/step\n",
            "Epoch 27/50\n",
            "1/1 - 0s - loss: 1.5082 - accuracy: 0.3750 - 6ms/epoch - 6ms/step\n",
            "Epoch 28/50\n",
            "1/1 - 0s - loss: 1.4909 - accuracy: 0.3750 - 6ms/epoch - 6ms/step\n",
            "Epoch 29/50\n",
            "1/1 - 0s - loss: 1.4742 - accuracy: 0.3750 - 6ms/epoch - 6ms/step\n",
            "Epoch 30/50\n",
            "1/1 - 0s - loss: 1.4582 - accuracy: 0.3750 - 5ms/epoch - 5ms/step\n",
            "Epoch 31/50\n",
            "1/1 - 0s - loss: 1.4427 - accuracy: 0.3750 - 6ms/epoch - 6ms/step\n",
            "Epoch 32/50\n",
            "1/1 - 0s - loss: 1.4277 - accuracy: 0.3750 - 5ms/epoch - 5ms/step\n",
            "Epoch 33/50\n",
            "1/1 - 0s - loss: 1.4133 - accuracy: 0.3750 - 6ms/epoch - 6ms/step\n",
            "Epoch 34/50\n",
            "1/1 - 0s - loss: 1.3992 - accuracy: 0.3750 - 6ms/epoch - 6ms/step\n",
            "Epoch 35/50\n",
            "1/1 - 0s - loss: 1.3856 - accuracy: 0.3750 - 5ms/epoch - 5ms/step\n",
            "Epoch 36/50\n",
            "1/1 - 0s - loss: 1.3724 - accuracy: 0.3750 - 5ms/epoch - 5ms/step\n",
            "Epoch 37/50\n",
            "1/1 - 0s - loss: 1.3596 - accuracy: 0.3750 - 6ms/epoch - 6ms/step\n",
            "Epoch 38/50\n",
            "1/1 - 0s - loss: 1.3471 - accuracy: 0.3750 - 5ms/epoch - 5ms/step\n",
            "Epoch 39/50\n",
            "1/1 - 0s - loss: 1.3350 - accuracy: 0.3750 - 6ms/epoch - 6ms/step\n",
            "Epoch 40/50\n",
            "1/1 - 0s - loss: 1.3231 - accuracy: 0.3750 - 5ms/epoch - 5ms/step\n",
            "Epoch 41/50\n",
            "1/1 - 0s - loss: 1.3116 - accuracy: 0.3750 - 7ms/epoch - 7ms/step\n",
            "Epoch 42/50\n",
            "1/1 - 0s - loss: 1.3003 - accuracy: 0.3750 - 7ms/epoch - 7ms/step\n",
            "Epoch 43/50\n",
            "1/1 - 0s - loss: 1.2893 - accuracy: 0.3750 - 6ms/epoch - 6ms/step\n",
            "Epoch 44/50\n",
            "1/1 - 0s - loss: 1.2785 - accuracy: 0.3750 - 6ms/epoch - 6ms/step\n",
            "Epoch 45/50\n",
            "1/1 - 0s - loss: 1.2680 - accuracy: 0.3750 - 6ms/epoch - 6ms/step\n",
            "Epoch 46/50\n",
            "1/1 - 0s - loss: 1.2577 - accuracy: 0.3750 - 6ms/epoch - 6ms/step\n",
            "Epoch 47/50\n",
            "1/1 - 0s - loss: 1.2476 - accuracy: 0.3750 - 6ms/epoch - 6ms/step\n",
            "Epoch 48/50\n",
            "1/1 - 0s - loss: 1.2377 - accuracy: 0.3750 - 6ms/epoch - 6ms/step\n",
            "Epoch 49/50\n",
            "1/1 - 0s - loss: 1.2279 - accuracy: 0.3750 - 6ms/epoch - 6ms/step\n",
            "Epoch 50/50\n",
            "1/1 - 0s - loss: 1.2183 - accuracy: 0.3750 - 6ms/epoch - 6ms/step\n"
          ]
        },
        {
          "output_type": "execute_result",
          "data": {
            "text/plain": [
              "<keras.callbacks.History at 0x7f4562263b50>"
            ]
          },
          "metadata": {},
          "execution_count": 112
        }
      ]
    },
    {
      "cell_type": "code",
      "source": [],
      "metadata": {
        "id": "rmNycUm9OdP9"
      },
      "execution_count": null,
      "outputs": []
    }
  ]
}